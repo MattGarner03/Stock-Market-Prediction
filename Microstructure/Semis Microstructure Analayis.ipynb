{
 "cells": [
  {
   "cell_type": "code",
   "execution_count": 4,
   "id": "bf6fb639",
   "metadata": {},
   "outputs": [],
   "source": [
    "# Cell 1 ────────────────────────────────────────────────────────────────────────────────\n",
    "import pandas as pd\n",
    "import numpy as np\n",
    "import matplotlib.pyplot as plt\n",
    "from pathlib import Path\n",
    "\n",
    "FILES = {\n",
    "    \"AMD\":  \"/workspaces/Stock-Market-Prediction/Microstructure/BATS_AMD, 1_09023.csv\",\n",
    "    \"NVDA\": \"/workspaces/Stock-Market-Prediction/Microstructure/BATS_NVDA, 1_a7f0c.csv\",\n",
    "    \"ASML\": \"/workspaces/Stock-Market-Prediction/Microstructure/BATS_ASML, 1_0f78d.csv\",\n",
    "}\n",
    "\n",
    "TIMEZONE = \"US/Eastern\"\n",
    "\n",
    "SESSION_BINS = {\n",
    "    \"open_30\":        (\"09:30\", \"10:00\"),\n",
    "    \"lunch_1130_1300\": (\"11:30\", \"13:00\"),\n",
    "    \"close_30\":       (\"15:30\", \"16:00\"),\n",
    "}\n",
    "\n",
    "plt.rcParams.update({\"font.size\": 11, \"figure.dpi\": 110})\n"
   ]
  },
  {
   "cell_type": "code",
   "execution_count": 11,
   "id": "d0822133",
   "metadata": {},
   "outputs": [],
   "source": [
    "# Cell 2 ────────────────────────────────────────────────────────────────────────────────\n",
    "from io import StringIO\n",
    "import pathlib, re\n",
    "\n",
    "def _has_header(sample_line: str) -> bool:\n",
    "    \"\"\"True if the first non-empty token looks alphabetic (e.g. 'ts' or 'Date').\"\"\"\n",
    "    token = sample_line.split(\",\")[0].strip()\n",
    "    return bool(re.match(r\"[A-Za-z]\", token))\n",
    "\n",
    "def load_symbol(path: str | Path) -> pd.DataFrame:\n",
    "    \"\"\"\n",
    "    Read a 1-minute OHLCV CSV and return a tz-aware DataFrame (US/Eastern).\n",
    "\n",
    "    • Works whether the file **has a header** or is **raw rows only**  \n",
    "      (like the snippet you pasted).  \n",
    "    • Auto-detects timestamp timezone and converts to US/Eastern.\n",
    "    \"\"\"\n",
    "    path = Path(path).expanduser().resolve()\n",
    "    with path.open(\"r\") as fh:\n",
    "        first_line = fh.readline()\n",
    "\n",
    "    names = [\"ts\", \"open\", \"high\", \"low\", \"close\", \"volume\"]\n",
    "    header_opt = 0 if _has_header(first_line) else None\n",
    "\n",
    "    df = pd.read_csv(path, header=header_opt, names=names)\n",
    "\n",
    "    # ---------- timestamp parsing & tz conversion ----------\n",
    "    ts = pd.to_datetime(df[\"ts\"], errors=\"coerce\")\n",
    "\n",
    "    if ts.dt.tz is None:                                     # tz-naïve\n",
    "        iso_col = df[\"ts\"].astype(str)\n",
    "        if iso_col.str.endswith(\"Z\").any() or iso_col.str.contains(\"+00:00\").any():\n",
    "            ts = ts.dt.tz_localize(\"UTC\").dt.tz_convert(TIMEZONE)\n",
    "        else:\n",
    "            ts = ts.dt.tz_localize(TIMEZONE)\n",
    "    else:                                                    # tz-aware\n",
    "        ts = ts.dt.tz_convert(TIMEZONE)\n",
    "\n",
    "    df[\"ts\"] = ts\n",
    "    df = df.dropna(subset=[\"ts\"]).set_index(\"ts\")\n",
    "    df[[\"open\",\"high\",\"low\",\"close\",\"volume\"]] = df[\n",
    "        [\"open\",\"high\",\"low\",\"close\",\"volume\"]\n",
    "    ].apply(pd.to_numeric, errors=\"coerce\")\n",
    "\n",
    "    # ---------- intraday helpers ----------\n",
    "    market_open = 9 * 3600 + 30 * 60  # 09:30\n",
    "    df[\"sec\"] = (\n",
    "        df.index.hour * 3600 + df.index.minute * 60 + df.index.second - market_open\n",
    "    )\n",
    "    df[\"date\"] = df.index.date\n",
    "    df = df[(df[\"sec\"] >= 0) & (df[\"sec\"] <= 2340)].copy()\n",
    "\n",
    "    return df\n"
   ]
  },
  {
   "cell_type": "code",
   "execution_count": 12,
   "id": "0d3451f0",
   "metadata": {},
   "outputs": [],
   "source": [
    "# Cell 3 ────────────────────────────────────────────────────────────────────────────────\n",
    "def per_day_vwap(df: pd.DataFrame) -> pd.Series:\n",
    "    return df.groupby(\"date\").apply(\n",
    "        lambda x: np.average(x[\"close\"], weights=x[\"volume\"])\n",
    "    )\n",
    "\n",
    "def per_minute_aggregates(df: pd.DataFrame, daily_vwap: pd.Series) -> pd.DataFrame:\n",
    "    df = df.copy()\n",
    "    df[\"vwap_d\"]     = df[\"date\"].map(daily_vwap)\n",
    "    df[\"delta_vwap\"] = df[\"close\"] - df[\"vwap_d\"]\n",
    "\n",
    "    df[\"logret\"]  = np.log(df[\"close\"]).diff()\n",
    "    df[\"abs_ret\"] = df[\"logret\"].abs()\n",
    "    mu_abs        = df.groupby(\"date\")[\"abs_ret\"].transform(\"mean\")\n",
    "    df[\"rel_vol\"] = df[\"abs_ret\"] / mu_abs\n",
    "\n",
    "    vol_day         = df.groupby(\"date\")[\"volume\"].transform(\"sum\")\n",
    "    df[\"vol_share\"] = df[\"volume\"] / vol_day\n",
    "    return df\n",
    "\n",
    "def average_intraday(df: pd.DataFrame, field: str) -> pd.Series:\n",
    "    return df.groupby(\"sec\")[field].mean().sort_index()\n",
    "\n",
    "def summarise_sessions(df: pd.DataFrame, field: str) -> pd.Series:\n",
    "    return pd.Series(\n",
    "        {\n",
    "            name: df.between_time(t0, t1)[field].mean()\n",
    "            for name, (t0, t1) in SESSION_BINS.items()\n",
    "        }\n",
    "    )\n"
   ]
  },
  {
   "cell_type": "code",
   "execution_count": 13,
   "id": "d7c2d2d5",
   "metadata": {},
   "outputs": [
    {
     "name": "stderr",
     "output_type": "stream",
     "text": [
      "/tmp/ipykernel_102015/1564124763.py:28: FutureWarning: In a future version of pandas, parsing datetimes with mixed time zones will raise an error unless `utc=True`. Please specify `utc=True` to opt in to the new behaviour and silence this warning. To create a `Series` with mixed offsets and `object` dtype, please use `apply` and `datetime.datetime.strptime`\n",
      "  ts = pd.to_datetime(df[\"ts\"], errors=\"coerce\")\n"
     ]
    },
    {
     "ename": "AttributeError",
     "evalue": "Can only use .dt accessor with datetimelike values",
     "output_type": "error",
     "traceback": [
      "\u001b[31m---------------------------------------------------------------------------\u001b[39m",
      "\u001b[31mAttributeError\u001b[39m                            Traceback (most recent call last)",
      "\u001b[36mCell\u001b[39m\u001b[36m \u001b[39m\u001b[32mIn[13]\u001b[39m\u001b[32m, line 7\u001b[39m\n\u001b[32m      5\u001b[39m     \u001b[38;5;28;01mif\u001b[39;00m \u001b[38;5;129;01mnot\u001b[39;00m path.exists():\n\u001b[32m      6\u001b[39m         \u001b[38;5;28;01mraise\u001b[39;00m \u001b[38;5;167;01mFileNotFoundError\u001b[39;00m(\u001b[33mf\u001b[39m\u001b[33m\"\u001b[39m\u001b[38;5;132;01m{\u001b[39;00mpath\u001b[38;5;132;01m}\u001b[39;00m\u001b[33m not found – update FILES paths.\u001b[39m\u001b[33m\"\u001b[39m)\n\u001b[32m----> \u001b[39m\u001b[32m7\u001b[39m     data[sym] = \u001b[43mload_symbol\u001b[49m\u001b[43m(\u001b[49m\u001b[43mpath\u001b[49m\u001b[43m)\u001b[49m\n\u001b[32m      9\u001b[39m \u001b[38;5;28;01mfor\u001b[39;00m sym, df \u001b[38;5;129;01min\u001b[39;00m data.items():\n\u001b[32m     10\u001b[39m     data[sym] = per_minute_aggregates(df, per_day_vwap(df))\n",
      "\u001b[36mCell\u001b[39m\u001b[36m \u001b[39m\u001b[32mIn[11]\u001b[39m\u001b[32m, line 30\u001b[39m, in \u001b[36mload_symbol\u001b[39m\u001b[34m(path)\u001b[39m\n\u001b[32m     27\u001b[39m \u001b[38;5;66;03m# ---------- timestamp parsing & tz conversion ----------\u001b[39;00m\n\u001b[32m     28\u001b[39m ts = pd.to_datetime(df[\u001b[33m\"\u001b[39m\u001b[33mts\u001b[39m\u001b[33m\"\u001b[39m], errors=\u001b[33m\"\u001b[39m\u001b[33mcoerce\u001b[39m\u001b[33m\"\u001b[39m)\n\u001b[32m---> \u001b[39m\u001b[32m30\u001b[39m \u001b[38;5;28;01mif\u001b[39;00m \u001b[43mts\u001b[49m\u001b[43m.\u001b[49m\u001b[43mdt\u001b[49m.tz \u001b[38;5;129;01mis\u001b[39;00m \u001b[38;5;28;01mNone\u001b[39;00m:                                     \u001b[38;5;66;03m# tz-naïve\u001b[39;00m\n\u001b[32m     31\u001b[39m     iso_col = df[\u001b[33m\"\u001b[39m\u001b[33mts\u001b[39m\u001b[33m\"\u001b[39m].astype(\u001b[38;5;28mstr\u001b[39m)\n\u001b[32m     32\u001b[39m     \u001b[38;5;28;01mif\u001b[39;00m iso_col.str.endswith(\u001b[33m\"\u001b[39m\u001b[33mZ\u001b[39m\u001b[33m\"\u001b[39m).any() \u001b[38;5;129;01mor\u001b[39;00m iso_col.str.contains(\u001b[33m\"\u001b[39m\u001b[33m+00:00\u001b[39m\u001b[33m\"\u001b[39m).any():\n",
      "\u001b[36mFile \u001b[39m\u001b[32m~/.local/lib/python3.12/site-packages/pandas/core/generic.py:6299\u001b[39m, in \u001b[36mNDFrame.__getattr__\u001b[39m\u001b[34m(self, name)\u001b[39m\n\u001b[32m   6292\u001b[39m \u001b[38;5;28;01mif\u001b[39;00m (\n\u001b[32m   6293\u001b[39m     name \u001b[38;5;129;01mnot\u001b[39;00m \u001b[38;5;129;01min\u001b[39;00m \u001b[38;5;28mself\u001b[39m._internal_names_set\n\u001b[32m   6294\u001b[39m     \u001b[38;5;129;01mand\u001b[39;00m name \u001b[38;5;129;01mnot\u001b[39;00m \u001b[38;5;129;01min\u001b[39;00m \u001b[38;5;28mself\u001b[39m._metadata\n\u001b[32m   6295\u001b[39m     \u001b[38;5;129;01mand\u001b[39;00m name \u001b[38;5;129;01mnot\u001b[39;00m \u001b[38;5;129;01min\u001b[39;00m \u001b[38;5;28mself\u001b[39m._accessors\n\u001b[32m   6296\u001b[39m     \u001b[38;5;129;01mand\u001b[39;00m \u001b[38;5;28mself\u001b[39m._info_axis._can_hold_identifiers_and_holds_name(name)\n\u001b[32m   6297\u001b[39m ):\n\u001b[32m   6298\u001b[39m     \u001b[38;5;28;01mreturn\u001b[39;00m \u001b[38;5;28mself\u001b[39m[name]\n\u001b[32m-> \u001b[39m\u001b[32m6299\u001b[39m \u001b[38;5;28;01mreturn\u001b[39;00m \u001b[38;5;28;43mobject\u001b[39;49m\u001b[43m.\u001b[49m\u001b[34;43m__getattribute__\u001b[39;49m\u001b[43m(\u001b[49m\u001b[38;5;28;43mself\u001b[39;49m\u001b[43m,\u001b[49m\u001b[43m \u001b[49m\u001b[43mname\u001b[49m\u001b[43m)\u001b[49m\n",
      "\u001b[36mFile \u001b[39m\u001b[32m~/.local/lib/python3.12/site-packages/pandas/core/accessor.py:224\u001b[39m, in \u001b[36mCachedAccessor.__get__\u001b[39m\u001b[34m(self, obj, cls)\u001b[39m\n\u001b[32m    221\u001b[39m \u001b[38;5;28;01mif\u001b[39;00m obj \u001b[38;5;129;01mis\u001b[39;00m \u001b[38;5;28;01mNone\u001b[39;00m:\n\u001b[32m    222\u001b[39m     \u001b[38;5;66;03m# we're accessing the attribute of the class, i.e., Dataset.geo\u001b[39;00m\n\u001b[32m    223\u001b[39m     \u001b[38;5;28;01mreturn\u001b[39;00m \u001b[38;5;28mself\u001b[39m._accessor\n\u001b[32m--> \u001b[39m\u001b[32m224\u001b[39m accessor_obj = \u001b[38;5;28;43mself\u001b[39;49m\u001b[43m.\u001b[49m\u001b[43m_accessor\u001b[49m\u001b[43m(\u001b[49m\u001b[43mobj\u001b[49m\u001b[43m)\u001b[49m\n\u001b[32m    225\u001b[39m \u001b[38;5;66;03m# Replace the property with the accessor object. Inspired by:\u001b[39;00m\n\u001b[32m    226\u001b[39m \u001b[38;5;66;03m# https://www.pydanny.com/cached-property.html\u001b[39;00m\n\u001b[32m    227\u001b[39m \u001b[38;5;66;03m# We need to use object.__setattr__ because we overwrite __setattr__ on\u001b[39;00m\n\u001b[32m    228\u001b[39m \u001b[38;5;66;03m# NDFrame\u001b[39;00m\n\u001b[32m    229\u001b[39m \u001b[38;5;28mobject\u001b[39m.\u001b[34m__setattr__\u001b[39m(obj, \u001b[38;5;28mself\u001b[39m._name, accessor_obj)\n",
      "\u001b[36mFile \u001b[39m\u001b[32m~/.local/lib/python3.12/site-packages/pandas/core/indexes/accessors.py:643\u001b[39m, in \u001b[36mCombinedDatetimelikeProperties.__new__\u001b[39m\u001b[34m(cls, data)\u001b[39m\n\u001b[32m    640\u001b[39m \u001b[38;5;28;01melif\u001b[39;00m \u001b[38;5;28misinstance\u001b[39m(data.dtype, PeriodDtype):\n\u001b[32m    641\u001b[39m     \u001b[38;5;28;01mreturn\u001b[39;00m PeriodProperties(data, orig)\n\u001b[32m--> \u001b[39m\u001b[32m643\u001b[39m \u001b[38;5;28;01mraise\u001b[39;00m \u001b[38;5;167;01mAttributeError\u001b[39;00m(\u001b[33m\"\u001b[39m\u001b[33mCan only use .dt accessor with datetimelike values\u001b[39m\u001b[33m\"\u001b[39m)\n",
      "\u001b[31mAttributeError\u001b[39m: Can only use .dt accessor with datetimelike values"
     ]
    }
   ],
   "source": [
    "# Cell 4 ────────────────────────────────────────────────────────────────────────────────\n",
    "data = {}\n",
    "for sym, fn in FILES.items():\n",
    "    path = Path(fn).expanduser().resolve()\n",
    "    if not path.exists():\n",
    "        raise FileNotFoundError(f\"{path} not found – update FILES paths.\")\n",
    "    data[sym] = load_symbol(path)\n",
    "\n",
    "for sym, df in data.items():\n",
    "    data[sym] = per_minute_aggregates(df, per_day_vwap(df))\n"
   ]
  }
 ],
 "metadata": {
  "kernelspec": {
   "display_name": "Python 3",
   "language": "python",
   "name": "python3"
  },
  "language_info": {
   "codemirror_mode": {
    "name": "ipython",
    "version": 3
   },
   "file_extension": ".py",
   "mimetype": "text/x-python",
   "name": "python",
   "nbconvert_exporter": "python",
   "pygments_lexer": "ipython3",
   "version": "3.12.1"
  }
 },
 "nbformat": 4,
 "nbformat_minor": 5
}
